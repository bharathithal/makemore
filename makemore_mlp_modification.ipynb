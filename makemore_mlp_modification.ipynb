{
 "cells": [
  {
   "cell_type": "markdown",
   "id": "e4b004e3",
   "metadata": {},
   "source": [
    "## Makemore Part 3: RNN Implementation"
   ]
  },
  {
   "cell_type": "code",
   "execution_count": 2,
   "id": "7841d89b",
   "metadata": {},
   "outputs": [],
   "source": [
    "import torch\n",
    "import torch.nn.functional as F\n",
    "import matplotlib.pyplot as plt\n",
    "%matplotlib inline"
   ]
  },
  {
   "cell_type": "code",
   "execution_count": 3,
   "id": "73afc7e1",
   "metadata": {},
   "outputs": [
    {
     "data": {
      "text/plain": [
       "['emma', 'olivia', 'ava', 'isabella', 'sophia']"
      ]
     },
     "execution_count": 3,
     "metadata": {},
     "output_type": "execute_result"
    }
   ],
   "source": [
    "words = open('names.txt', 'r').read().splitlines()\n",
    "words[:5]"
   ]
  },
  {
   "cell_type": "code",
   "execution_count": 4,
   "id": "ca04a0fa",
   "metadata": {},
   "outputs": [
    {
     "data": {
      "text/plain": [
       "32033"
      ]
     },
     "execution_count": 4,
     "metadata": {},
     "output_type": "execute_result"
    }
   ],
   "source": [
    "len(words)"
   ]
  },
  {
   "cell_type": "code",
   "execution_count": 12,
   "id": "1672cc52",
   "metadata": {},
   "outputs": [
    {
     "name": "stdout",
     "output_type": "stream",
     "text": [
      "{1: 'a', 2: 'b', 3: 'c', 4: 'd', 5: 'e', 6: 'f', 7: 'g', 8: 'h', 9: 'i', 10: 'j', 11: 'k', 12: 'l', 13: 'm', 14: 'n', 15: 'o', 16: 'p', 17: 'q', 18: 'r', 19: 's', 20: 't', 21: 'u', 22: 'v', 23: 'w', 24: 'x', 25: 'y', 26: 'z', 0: '.'}\n",
      "27\n"
     ]
    }
   ],
   "source": [
    "# Build vocabulary of charecters and mapping to/from integers\n",
    "chars = sorted(list(set(''.join(words))))\n",
    "stoi = {s: i+1 for i, s in enumerate(chars)}\n",
    "stoi['.'] = 0\n",
    "itos = {i:s for s, i in stoi.items()}\n",
    "vocab_size = len(itos)\n",
    "print(itos)\n",
    "print(vocab_size)"
   ]
  },
  {
   "cell_type": "code",
   "execution_count": 13,
   "id": "11697026",
   "metadata": {},
   "outputs": [
    {
     "name": "stdout",
     "output_type": "stream",
     "text": [
      "torch.Size([182625, 3]) torch.Size([182625])\n",
      "torch.Size([22655, 3]) torch.Size([22655])\n",
      "torch.Size([22866, 3]) torch.Size([22866])\n"
     ]
    }
   ],
   "source": [
    "# Build dataset\n",
    "block_size = 3\n",
    "\n",
    "def build_dataset(words):\n",
    "    X, Y = [], []\n",
    "    \n",
    "    for w in words:\n",
    "        context = [0] * block_size\n",
    "        for ch in w + '.':\n",
    "            ix = stoi[ch]\n",
    "            X.append(context)\n",
    "            Y.append(ix)\n",
    "            context = context[1:] + [ix]\n",
    "        \n",
    "    X = torch.tensor(X)\n",
    "    Y = torch.tensor(Y)\n",
    "    print(X.shape, Y.shape)\n",
    "    return X, Y\n",
    "\n",
    "import random\n",
    "random.seed(42)\n",
    "random.shuffle(words)\n",
    "n1 = int(0.8 * len(words))\n",
    "n2 = int(0.9 * len(words))\n",
    "\n",
    "Xtr, Ytr = build_dataset(words[:n1])\n",
    "Xdev, Ydev = build_dataset(words[n1: n2])\n",
    "Xte, Yte = build_dataset(words[n2:])"
   ]
  },
  {
   "cell_type": "markdown",
   "id": "10cf3da0",
   "metadata": {},
   "source": [
    "## MLP"
   ]
  },
  {
   "cell_type": "code",
   "execution_count": 30,
   "id": "7069e323",
   "metadata": {},
   "outputs": [
    {
     "name": "stdout",
     "output_type": "stream",
     "text": [
      "11897\n"
     ]
    }
   ],
   "source": [
    "n_embd = 10\n",
    "n_hidden = 200\n",
    "\n",
    "g = torch.Generator().manual_seed(135242)\n",
    "C = torch.randn((vocab_size, n_embd), generator = g)\n",
    "W1 = torch.randn((n_embd * block_size, n_hidden), generator = g) * 0.2\n",
    "b1 = torch.randn(n_hidden, generator = g) * 0.01\n",
    "W2 = torch.randn((n_hidden, vocab_size), generator = g) * 0.01\n",
    "b2 = torch.randn(vocab_size, generator = g) * 0\n",
    "\n",
    "parameters = [C, W1, b1, W2, b2]\n",
    "print(sum(p.nelement() for p in parameters))\n",
    "\n",
    "for p in parameters:\n",
    "    p.requires_grad = True"
   ]
  },
  {
   "cell_type": "code",
   "execution_count": 31,
   "id": "e1351ed2",
   "metadata": {},
   "outputs": [
    {
     "name": "stdout",
     "output_type": "stream",
     "text": [
      "      0 /  200000: 3.2903\n",
      "      0 /  200000: 3.2903\n",
      "      0 /  200000: 3.2903\n",
      "      0 /  200000: 3.2903\n",
      "      0 /  200000: 3.2903\n",
      "  10000 /  200000: 2.2177\n",
      "  10000 /  200000: 2.2177\n",
      "  10000 /  200000: 2.2177\n",
      "  10000 /  200000: 2.2177\n",
      "  10000 /  200000: 2.2177\n",
      "  20000 /  200000: 2.1333\n",
      "  20000 /  200000: 2.1333\n",
      "  20000 /  200000: 2.1333\n",
      "  20000 /  200000: 2.1333\n",
      "  20000 /  200000: 2.1333\n",
      "  30000 /  200000: 2.2094\n",
      "  30000 /  200000: 2.2094\n",
      "  30000 /  200000: 2.2094\n",
      "  30000 /  200000: 2.2094\n",
      "  30000 /  200000: 2.2094\n",
      "  40000 /  200000: 1.9209\n",
      "  40000 /  200000: 1.9209\n",
      "  40000 /  200000: 1.9209\n",
      "  40000 /  200000: 1.9209\n",
      "  40000 /  200000: 1.9209\n",
      "  50000 /  200000: 2.1652\n",
      "  50000 /  200000: 2.1652\n",
      "  50000 /  200000: 2.1652\n",
      "  50000 /  200000: 2.1652\n",
      "  50000 /  200000: 2.1652\n",
      "  60000 /  200000: 2.2750\n",
      "  60000 /  200000: 2.2750\n",
      "  60000 /  200000: 2.2750\n",
      "  60000 /  200000: 2.2750\n",
      "  60000 /  200000: 2.2750\n",
      "  70000 /  200000: 1.9483\n",
      "  70000 /  200000: 1.9483\n",
      "  70000 /  200000: 1.9483\n",
      "  70000 /  200000: 1.9483\n",
      "  70000 /  200000: 1.9483\n",
      "  80000 /  200000: 1.8999\n",
      "  80000 /  200000: 1.8999\n",
      "  80000 /  200000: 1.8999\n",
      "  80000 /  200000: 1.8999\n",
      "  80000 /  200000: 1.8999\n",
      "  90000 /  200000: 2.3748\n",
      "  90000 /  200000: 2.3748\n",
      "  90000 /  200000: 2.3748\n",
      "  90000 /  200000: 2.3748\n",
      "  90000 /  200000: 2.3748\n",
      " 100000 /  200000: 2.4469\n",
      " 100000 /  200000: 2.4469\n",
      " 100000 /  200000: 2.4469\n",
      " 100000 /  200000: 2.4469\n",
      " 100000 /  200000: 2.4469\n",
      " 110000 /  200000: 2.1790\n",
      " 110000 /  200000: 2.1790\n",
      " 110000 /  200000: 2.1790\n",
      " 110000 /  200000: 2.1790\n",
      " 110000 /  200000: 2.1790\n",
      " 120000 /  200000: 2.3469\n",
      " 120000 /  200000: 2.3469\n",
      " 120000 /  200000: 2.3469\n",
      " 120000 /  200000: 2.3469\n",
      " 120000 /  200000: 2.3469\n",
      " 130000 /  200000: 1.8496\n",
      " 130000 /  200000: 1.8496\n",
      " 130000 /  200000: 1.8496\n",
      " 130000 /  200000: 1.8496\n",
      " 130000 /  200000: 1.8496\n",
      " 140000 /  200000: 1.7975\n",
      " 140000 /  200000: 1.7975\n",
      " 140000 /  200000: 1.7975\n",
      " 140000 /  200000: 1.7975\n",
      " 140000 /  200000: 1.7975\n",
      " 150000 /  200000: 1.6156\n",
      " 150000 /  200000: 1.6156\n",
      " 150000 /  200000: 1.6156\n",
      " 150000 /  200000: 1.6156\n",
      " 150000 /  200000: 1.6156\n",
      " 160000 /  200000: 2.0205\n",
      " 160000 /  200000: 2.0205\n",
      " 160000 /  200000: 2.0205\n",
      " 160000 /  200000: 2.0205\n",
      " 160000 /  200000: 2.0205\n",
      " 170000 /  200000: 2.0163\n",
      " 170000 /  200000: 2.0163\n",
      " 170000 /  200000: 2.0163\n",
      " 170000 /  200000: 2.0163\n",
      " 170000 /  200000: 2.0163\n",
      " 180000 /  200000: 1.7319\n",
      " 180000 /  200000: 1.7319\n",
      " 180000 /  200000: 1.7319\n",
      " 180000 /  200000: 1.7319\n",
      " 180000 /  200000: 1.7319\n",
      " 190000 /  200000: 1.8471\n",
      " 190000 /  200000: 1.8471\n",
      " 190000 /  200000: 1.8471\n",
      " 190000 /  200000: 1.8471\n",
      " 190000 /  200000: 1.8471\n"
     ]
    }
   ],
   "source": [
    "# Optimization\n",
    "max_steps = 200000\n",
    "batch_size = 32\n",
    "lossi = []\n",
    "\n",
    "for i in range(max_steps):\n",
    "    \n",
    "    # minibatch construct\n",
    "    ix = torch.randint(0, Xtr.shape[0], (batch_size,), generator=g)\n",
    "    Xb, Yb = Xtr[ix], Ytr[ix]\n",
    "    \n",
    "    # forward pass\n",
    "    emb = C[Xb]\n",
    "    embcat = emb.view(emb.shape[0], -1)\n",
    "    hpreact = embcat @ W1 + b1\n",
    "    h = torch.tanh(hpreact)\n",
    "    logits = h @ W2 + b2\n",
    "    loss = F.cross_entropy(logits, Yb)\n",
    "    \n",
    "    # backward pass\n",
    "    for p in parameters:\n",
    "        p.grad = None\n",
    "    loss.backward()\n",
    "    \n",
    "    # update\n",
    "    lr = 0.1 if i < 100000 else 0.01\n",
    "    for p in parameters:\n",
    "        p.data += -lr * p.grad\n",
    "    \n",
    "    # track stats\n",
    "        if i % 10000 == 0:\n",
    "            print(f'{i:7d} / {max_steps:7d}: {loss.item():.4f}')\n",
    "        lossi.append(loss.log10().item())"
   ]
  },
  {
   "cell_type": "code",
   "execution_count": 32,
   "id": "74b4e0b3",
   "metadata": {},
   "outputs": [
    {
     "data": {
      "text/plain": [
       "[<matplotlib.lines.Line2D at 0x241e6d08370>]"
      ]
     },
     "execution_count": 32,
     "metadata": {},
     "output_type": "execute_result"
    },
    {
     "data": {
      "image/png": "[encoded data removed]",
      "text/plain": [
       "<Figure size 432x288 with 1 Axes>"
      ]
     },
     "metadata": {
      "needs_background": "light"
     },
     "output_type": "display_data"
    }
   ],
   "source": [
    "plt.plot(lossi)"
   ]
  },
  {
   "cell_type": "code",
   "execution_count": 33,
   "id": "0b7527e3",
   "metadata": {},
   "outputs": [
    {
     "name": "stdout",
     "output_type": "stream",
     "text": [
      "train 2.037980556488037\n",
      "val 2.1039342880249023\n"
     ]
    }
   ],
   "source": [
    "@torch.no_grad() # this decorator disables gradient tracking\n",
    "def split_loss(split):\n",
    "    x,y = {\n",
    "        'train': (Xtr, Ytr),\n",
    "        'val': (Xdev, Ydev),\n",
    "        'test': (Xte, Yte),\n",
    "    }[split]\n",
    "    emb = C[x] # (N, block_size, n_embd)\n",
    "    embcat = emb.view(emb.shape[0], -1) # concat into (N, block_size * n_embd)\n",
    "    hpreact = embcat @ W1 + b1\n",
    "    h = torch.tanh(hpreact) # (N, n_hidden)\n",
    "    logits = h @ W2 + b2 # (N, vocab_size)\n",
    "    loss = F.cross_entropy(logits, y)\n",
    "    print(split, loss.item())\n",
    "\n",
    "split_loss('train')\n",
    "split_loss('val')"
   ]
  },
  {
   "cell_type": "code",
   "execution_count": 29,
   "id": "e08fefd4",
   "metadata": {},
   "outputs": [
    {
     "name": "stdout",
     "output_type": "stream",
     "text": [
      "yeshawlen.\n",
      "lolden.\n",
      "yachari.\n",
      "por.\n",
      "len.\n",
      "chury.\n",
      "koelah.\n",
      "kella.\n",
      "akianna.\n",
      "kella.\n",
      "yun.\n",
      "zax.\n",
      "maris.\n",
      "azia.\n",
      "aziyah.\n",
      "jadi.\n",
      "raymanuyton.\n",
      "josaynixela.\n",
      "lay.\n",
      "dalanoliila.\n"
     ]
    }
   ],
   "source": [
    "# sample from the model\n",
    "g = torch.Generator().manual_seed(32131)\n",
    "\n",
    "for _ in range(20):\n",
    "    out = []\n",
    "    context = [0] * block_size\n",
    "    while True:\n",
    "        emb = C[torch.tensor([context])]\n",
    "        h = torch.tanh(emb.view(1, -1) @ W1 + b1)\n",
    "        logits = h @ W2 + b2\n",
    "        probs = F.softmax(logits, dim=1)\n",
    "        ix = torch.multinomial(probs, num_samples=1, generator=g).item()\n",
    "        context = context[1:] + [ix]\n",
    "        out.append(ix)\n",
    "        \n",
    "        if ix == 0:\n",
    "            break\n",
    "    \n",
    "    print(''.join(itos[i] for i in out))"
   ]
  },
  {
   "cell_type": "code",
   "execution_count": null,
   "id": "22b83ce5",
   "metadata": {},
   "outputs": [],
   "source": []
  }
 ],
 "metadata": {
  "kernelspec": {
   "display_name": "Python 3 (ipykernel)",
   "language": "python",
   "name": "python3"
  },
  "language_info": {
   "codemirror_mode": {
    "name": "ipython",
    "version": 3
   },
   "file_extension": ".py",
   "mimetype": "text/x-python",
   "name": "python",
   "nbconvert_exporter": "python",
   "pygments_lexer": "ipython3",
   "version": "3.9.12"
  }
 },
 "nbformat": 4,
 "nbformat_minor": 5
}
